{
 "cells": [
  {
   "cell_type": "code",
   "execution_count": 39,
   "metadata": {
    "collapsed": true
   },
   "outputs": [],
   "source": [
    "%matplotlib inline\n",
    "\n",
    "import matplotlib\n",
    "import numpy as np\n",
    "import matplotlib.pyplot as plt\n",
    "import seaborn as sns\n",
    "import pandas as pd\n"
   ]
  },
  {
   "cell_type": "code",
   "execution_count": 40,
   "metadata": {},
   "outputs": [],
   "source": [
    "def read_csv_pandas(path, header=False):\n",
    "    df = pd.read_csv(path, delimiter=';', header=0, decimal=',')\n",
    "    if header:\n",
    "        header = df.columns.values.tolist()\n",
    "        return np.array(df), np.array(header)\n",
    "    else:\n",
    "        return np.array(df)"
   ]
  },
  {
   "cell_type": "code",
   "execution_count": 59,
   "metadata": {},
   "outputs": [],
   "source": [
    "full = read_csv_pandas(\n",
    "    \"/home/ivan/Documents/workspace/resources/csv/Barrier/kvz/old/feats/all.csv\")\n",
    "hs = read_csv_pandas(\n",
    "    \"/home/ivan/Documents/workspace/resources/csv/Barrier/kvz/old/feats/hs.csv\")"
   ]
  },
  {
   "cell_type": "code",
   "execution_count": 65,
   "metadata": {},
   "outputs": [],
   "source": [
    "FEAT = 5\n"
   ]
  },
  {
   "cell_type": "code",
   "execution_count": 66,
   "metadata": {},
   "outputs": [
    {
     "data": {
      "image/png": "[encoded data removed]",
      "text/plain": [
       "<Figure size 432x288 with 1 Axes>"
      ]
     },
     "metadata": {},
     "output_type": "display_data"
    }
   ],
   "source": [
    "y = full[:, FEAT]\n",
    "x = full[:, 0]\n",
    "\n",
    "clrs = ['grey' for i in x]\n",
    "sns.barplot(x = x, y = y, palette=clrs)\n",
    "\n",
    "y_hs = hs[:, FEAT]\n",
    "x_hs = hs[:, 0]\n",
    "\n",
    "clrs = ['red' for j in x_hs]\n",
    "sns.barplot(x = x_hs, y = y_hs, palette=clrs)\n",
    "\n",
    "plt.savefig('/home/ivan/Documents/workspace/resources/csv/Barrier/kvz/old/feats/11.png', dpi=900)"
   ]
  },
  {
   "cell_type": "code",
   "execution_count": null,
   "metadata": {},
   "outputs": [],
   "source": []
  }
 ],
 "metadata": {
  "kernelspec": {
   "display_name": "Python 2",
   "language": "python",
   "name": "python2"
  },
  "language_info": {
   "codemirror_mode": {
    "name": "ipython",
    "version": 2
   },
   "file_extension": ".py",
   "mimetype": "text/x-python",
   "name": "python",
   "nbconvert_exporter": "python",
   "pygments_lexer": "ipython2",
   "version": "2.7.6"
  }
 },
 "nbformat": 4,
 "nbformat_minor": 0
}
